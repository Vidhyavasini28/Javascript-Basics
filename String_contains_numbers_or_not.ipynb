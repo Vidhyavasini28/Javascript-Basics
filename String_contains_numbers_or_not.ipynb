{
 "cells": [
  {
   "cell_type": "code",
   "execution_count": 8,
   "id": "bc52bc99-491e-4931-8919-501aabad644b",
   "metadata": {},
   "outputs": [
    {
     "name": "stdout",
     "output_type": "stream",
     "text": [
      "The string does not contain any numeric digits.\n"
     ]
    }
   ],
   "source": [
    "string = \"Hello\"\n",
    "contains_digit = False\n",
    "\n",
    "for char in string:\n",
    "    if '0' <= char <= '9':\n",
    "        contains_digit = True\n",
    "        break \n",
    "\n",
    "if contains_digit:\n",
    "    print(\"The string contains a numeric digit.\")\n",
    "else:\n",
    "    print(\"The string does not contain any numeric digits.\")\n"
   ]
  }
 ],
 "metadata": {
  "kernelspec": {
   "display_name": "Python 3 (ipykernel)",
   "language": "python",
   "name": "python3"
  },
  "language_info": {
   "codemirror_mode": {
    "name": "ipython",
    "version": 3
   },
   "file_extension": ".py",
   "mimetype": "text/x-python",
   "name": "python",
   "nbconvert_exporter": "python",
   "pygments_lexer": "ipython3",
   "version": "3.11.7"
  }
 },
 "nbformat": 4,
 "nbformat_minor": 5
}
